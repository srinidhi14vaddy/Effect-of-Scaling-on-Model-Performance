{
 "cells": [
  {
   "cell_type": "code",
   "execution_count": 1,
   "metadata": {},
   "outputs": [],
   "source": [
    "import numpy as np\n",
    "import matplotlib.pyplot as plt\n",
    "import pandas as pd\n",
    "import seaborn as sns\n",
    "from sklearn.linear_model import LinearRegression # for linear regression\n",
    "from sklearn.neighbors import KNeighborsRegressor # for kNN\n",
    "from sklearn import preprocessing # for scaling the data\n",
    "from sklearn.model_selection import KFold, cross_validate # for Cross-validation\n",
    "from sklearn.metrics import r2_score, mean_squared_error\n",
    "np.random.seed(371)"
   ]
  },
  {
   "cell_type": "markdown",
   "metadata": {},
   "source": [
    "# Read in the data"
   ]
  },
  {
   "cell_type": "code",
   "execution_count": 2,
   "metadata": {},
   "outputs": [
    {
     "data": {
      "text/html": [
       "<div>\n",
       "<style scoped>\n",
       "    .dataframe tbody tr th:only-of-type {\n",
       "        vertical-align: middle;\n",
       "    }\n",
       "\n",
       "    .dataframe tbody tr th {\n",
       "        vertical-align: top;\n",
       "    }\n",
       "\n",
       "    .dataframe thead th {\n",
       "        text-align: right;\n",
       "    }\n",
       "</style>\n",
       "<table border=\"1\" class=\"dataframe\">\n",
       "  <thead>\n",
       "    <tr style=\"text-align: right;\">\n",
       "      <th></th>\n",
       "      <th>Ship_name</th>\n",
       "      <th>Cruise_line</th>\n",
       "      <th>Age</th>\n",
       "      <th>Tonnage</th>\n",
       "      <th>passengers</th>\n",
       "      <th>length</th>\n",
       "      <th>cabins</th>\n",
       "      <th>passenger_density</th>\n",
       "      <th>crew</th>\n",
       "    </tr>\n",
       "  </thead>\n",
       "  <tbody>\n",
       "    <tr>\n",
       "      <th>0</th>\n",
       "      <td>Journey</td>\n",
       "      <td>Azamara</td>\n",
       "      <td>6</td>\n",
       "      <td>30.277</td>\n",
       "      <td>694</td>\n",
       "      <td>5.94</td>\n",
       "      <td>3.55</td>\n",
       "      <td>42.64</td>\n",
       "      <td>36</td>\n",
       "    </tr>\n",
       "    <tr>\n",
       "      <th>1</th>\n",
       "      <td>Quest</td>\n",
       "      <td>Azamara</td>\n",
       "      <td>6</td>\n",
       "      <td>30.277</td>\n",
       "      <td>694</td>\n",
       "      <td>5.94</td>\n",
       "      <td>3.55</td>\n",
       "      <td>42.64</td>\n",
       "      <td>36</td>\n",
       "    </tr>\n",
       "    <tr>\n",
       "      <th>2</th>\n",
       "      <td>Celebration</td>\n",
       "      <td>Carnival</td>\n",
       "      <td>26</td>\n",
       "      <td>47.262</td>\n",
       "      <td>1486</td>\n",
       "      <td>7.22</td>\n",
       "      <td>7.43</td>\n",
       "      <td>31.80</td>\n",
       "      <td>67</td>\n",
       "    </tr>\n",
       "    <tr>\n",
       "      <th>3</th>\n",
       "      <td>Conquest</td>\n",
       "      <td>Carnival</td>\n",
       "      <td>11</td>\n",
       "      <td>110.000</td>\n",
       "      <td>2974</td>\n",
       "      <td>9.53</td>\n",
       "      <td>14.88</td>\n",
       "      <td>36.99</td>\n",
       "      <td>191</td>\n",
       "    </tr>\n",
       "    <tr>\n",
       "      <th>4</th>\n",
       "      <td>Destiny</td>\n",
       "      <td>Carnival</td>\n",
       "      <td>17</td>\n",
       "      <td>101.353</td>\n",
       "      <td>2642</td>\n",
       "      <td>8.92</td>\n",
       "      <td>13.21</td>\n",
       "      <td>38.36</td>\n",
       "      <td>100</td>\n",
       "    </tr>\n",
       "  </tbody>\n",
       "</table>\n",
       "</div>"
      ],
      "text/plain": [
       "     Ship_name Cruise_line  Age  Tonnage  passengers  length  cabins  \\\n",
       "0      Journey     Azamara    6   30.277         694    5.94    3.55   \n",
       "1        Quest     Azamara    6   30.277         694    5.94    3.55   \n",
       "2  Celebration    Carnival   26   47.262        1486    7.22    7.43   \n",
       "3     Conquest    Carnival   11  110.000        2974    9.53   14.88   \n",
       "4      Destiny    Carnival   17  101.353        2642    8.92   13.21   \n",
       "\n",
       "   passenger_density  crew  \n",
       "0              42.64    36  \n",
       "1              42.64    36  \n",
       "2              31.80    67  \n",
       "3              36.99   191  \n",
       "4              38.36   100  "
      ]
     },
     "execution_count": 2,
     "metadata": {},
     "output_type": "execute_result"
    }
   ],
   "source": [
    "df = pd.read_csv('./lab1_data.csv')\n",
    "df.head()"
   ]
  },
  {
   "cell_type": "code",
   "execution_count": 3,
   "metadata": {},
   "outputs": [],
   "source": [
    "# pick some columns for our practice\n",
    "cols = [\"Tonnage\", \"length\", \"cabins\", \"crew\", \"passengers\"]\n",
    "\n",
    "df_selected = df[cols]"
   ]
  },
  {
   "cell_type": "markdown",
   "metadata": {},
   "source": [
    "# Explore the data"
   ]
  },
  {
   "cell_type": "code",
   "execution_count": 4,
   "metadata": {},
   "outputs": [
    {
     "data": {
      "text/html": [
       "<div>\n",
       "<style scoped>\n",
       "    .dataframe tbody tr th:only-of-type {\n",
       "        vertical-align: middle;\n",
       "    }\n",
       "\n",
       "    .dataframe tbody tr th {\n",
       "        vertical-align: top;\n",
       "    }\n",
       "\n",
       "    .dataframe thead th {\n",
       "        text-align: right;\n",
       "    }\n",
       "</style>\n",
       "<table border=\"1\" class=\"dataframe\">\n",
       "  <thead>\n",
       "    <tr style=\"text-align: right;\">\n",
       "      <th></th>\n",
       "      <th>Tonnage</th>\n",
       "      <th>length</th>\n",
       "      <th>cabins</th>\n",
       "      <th>crew</th>\n",
       "      <th>passengers</th>\n",
       "    </tr>\n",
       "  </thead>\n",
       "  <tbody>\n",
       "    <tr>\n",
       "      <th>count</th>\n",
       "      <td>158.000000</td>\n",
       "      <td>158.000000</td>\n",
       "      <td>158.000000</td>\n",
       "      <td>158.000000</td>\n",
       "      <td>158.000000</td>\n",
       "    </tr>\n",
       "    <tr>\n",
       "      <th>mean</th>\n",
       "      <td>71.284671</td>\n",
       "      <td>8.130633</td>\n",
       "      <td>8.830000</td>\n",
       "      <td>78.012658</td>\n",
       "      <td>1845.740506</td>\n",
       "    </tr>\n",
       "    <tr>\n",
       "      <th>std</th>\n",
       "      <td>37.229540</td>\n",
       "      <td>1.793474</td>\n",
       "      <td>4.471417</td>\n",
       "      <td>35.020283</td>\n",
       "      <td>967.709478</td>\n",
       "    </tr>\n",
       "    <tr>\n",
       "      <th>min</th>\n",
       "      <td>2.329000</td>\n",
       "      <td>2.790000</td>\n",
       "      <td>0.330000</td>\n",
       "      <td>6.000000</td>\n",
       "      <td>66.000000</td>\n",
       "    </tr>\n",
       "    <tr>\n",
       "      <th>25%</th>\n",
       "      <td>46.013000</td>\n",
       "      <td>7.100000</td>\n",
       "      <td>6.132500</td>\n",
       "      <td>55.250000</td>\n",
       "      <td>1253.500000</td>\n",
       "    </tr>\n",
       "    <tr>\n",
       "      <th>50%</th>\n",
       "      <td>71.899000</td>\n",
       "      <td>8.555000</td>\n",
       "      <td>9.570000</td>\n",
       "      <td>81.500000</td>\n",
       "      <td>1950.000000</td>\n",
       "    </tr>\n",
       "    <tr>\n",
       "      <th>75%</th>\n",
       "      <td>90.772500</td>\n",
       "      <td>9.510000</td>\n",
       "      <td>10.885000</td>\n",
       "      <td>100.000000</td>\n",
       "      <td>2484.500000</td>\n",
       "    </tr>\n",
       "    <tr>\n",
       "      <th>max</th>\n",
       "      <td>220.000000</td>\n",
       "      <td>11.820000</td>\n",
       "      <td>27.000000</td>\n",
       "      <td>210.000000</td>\n",
       "      <td>5400.000000</td>\n",
       "    </tr>\n",
       "  </tbody>\n",
       "</table>\n",
       "</div>"
      ],
      "text/plain": [
       "          Tonnage      length      cabins        crew   passengers\n",
       "count  158.000000  158.000000  158.000000  158.000000   158.000000\n",
       "mean    71.284671    8.130633    8.830000   78.012658  1845.740506\n",
       "std     37.229540    1.793474    4.471417   35.020283   967.709478\n",
       "min      2.329000    2.790000    0.330000    6.000000    66.000000\n",
       "25%     46.013000    7.100000    6.132500   55.250000  1253.500000\n",
       "50%     71.899000    8.555000    9.570000   81.500000  1950.000000\n",
       "75%     90.772500    9.510000   10.885000  100.000000  2484.500000\n",
       "max    220.000000   11.820000   27.000000  210.000000  5400.000000"
      ]
     },
     "execution_count": 4,
     "metadata": {},
     "output_type": "execute_result"
    }
   ],
   "source": [
    "df_selected.describe()"
   ]
  },
  {
   "cell_type": "code",
   "execution_count": 5,
   "metadata": {},
   "outputs": [
    {
     "data": {
      "text/plain": [
       "<seaborn.axisgrid.PairGrid at 0x7f95bb970e50>"
      ]
     },
     "execution_count": 5,
     "metadata": {},
     "output_type": "execute_result"
    },
    {
     "data": {
      "image/png": "[encoded data removed]",
      "text/plain": [
       "<Figure size 720x720 with 30 Axes>"
      ]
     },
     "metadata": {
      "needs_background": "light"
     },
     "output_type": "display_data"
    }
   ],
   "source": [
    "sns.pairplot(df_selected, height=2.0)"
   ]
  },
  {
   "cell_type": "markdown",
   "metadata": {},
   "source": [
    "**Think: Observations from the plot?**"
   ]
  },
  {
   "cell_type": "markdown",
   "metadata": {},
   "source": [
    "ANSWER: All the variables have a positive corelation between them. \n",
    "We see a steep positive slope between passengers and cabins. As the number of pasengers increase, the cabins increase as well. \n",
    "We also see steep positive slope with crew as well, that is, as passengers and cabins increase, the demand for crew also increases as they have to maintain the ship and handle the passengers. "
   ]
  },
  {
   "cell_type": "markdown",
   "metadata": {},
   "source": [
    "# Prepare the data using cross validation"
   ]
  },
  {
   "cell_type": "code",
   "execution_count": 6,
   "metadata": {},
   "outputs": [],
   "source": [
    "x_cols = [\"Tonnage\", \"length\", \"cabins\", \"crew\"]\n",
    "y_col = \"passengers\"\n",
    "\n",
    "X_full = df_selected[x_cols]\n",
    "y_full = df_selected[y_col]"
   ]
  },
  {
   "cell_type": "code",
   "execution_count": 7,
   "metadata": {},
   "outputs": [],
   "source": [
    "cv_split = KFold(n_splits=5, shuffle=True, random_state=371) # random state ensures reproducable output across multiple function calls"
   ]
  },
  {
   "cell_type": "code",
   "execution_count": 8,
   "metadata": {},
   "outputs": [
    {
     "name": "stdout",
     "output_type": "stream",
     "text": [
      "(126, 4) (32, 4)\n",
      "(126, 4) (32, 4)\n",
      "(126, 4) (32, 4)\n",
      "(127, 4) (31, 4)\n",
      "(127, 4) (31, 4)\n"
     ]
    }
   ],
   "source": [
    "for idx_train, idx_test in cv_split.split(X_full, y_full):\n",
    "    X_train = X_full.iloc[idx_train]\n",
    "    X_test = X_full.iloc[idx_test]\n",
    "    y_train = y_full.iloc[idx_train]\n",
    "    y_test = y_full.iloc[idx_test]\n",
    "    print(X_train.shape, X_test.shape)"
   ]
  },
  {
   "cell_type": "markdown",
   "metadata": {},
   "source": [
    "# Compare LR and KNN (k=3)"
   ]
  },
  {
   "cell_type": "code",
   "execution_count": 9,
   "metadata": {},
   "outputs": [],
   "source": [
    "lr = LinearRegression()\n",
    "knn = KNeighborsRegressor(n_neighbors=3)"
   ]
  },
  {
   "cell_type": "markdown",
   "metadata": {},
   "source": [
    "## Example of training linear regression model"
   ]
  },
  {
   "cell_type": "code",
   "execution_count": 10,
   "metadata": {},
   "outputs": [
    {
     "name": "stdout",
     "output_type": "stream",
     "text": [
      "average R2 score for linear regression: 0.9480419620768963\n",
      "average MSE linear regression: 41375.769664874286\n"
     ]
    }
   ],
   "source": [
    "# 2 types of error\n",
    "r2_lr_list = []\n",
    "mse_lr_list = []\n",
    "\n",
    "for idx_train, idx_test in cv_split.split(X_full, y_full):\n",
    "    X_train = X_full.iloc[idx_train]\n",
    "    X_test = X_full.iloc[idx_test]\n",
    "    y_train = y_full.iloc[idx_train]\n",
    "    y_test = y_full.iloc[idx_test]\n",
    "    \n",
    "    # linear regression\n",
    "    m_lr = lr.fit(X_train, y_train)\n",
    "    y_pred = m_lr.predict(X_test)\n",
    "    \n",
    "    # R^2\n",
    "    r2_lr = r2_score(y_true=y_test, y_pred=y_pred)\n",
    "    r2_lr_list.append(r2_lr)\n",
    "    \n",
    "    # mean squared error\n",
    "    mse_lr = mean_squared_error(y_true=y_test, y_pred=y_pred)\n",
    "    mse_lr_list.append(mse_lr)\n",
    "\n",
    "print(\"average R2 score for linear regression:\", np.mean(r2_lr_list))\n",
    "print(\"average MSE linear regression:\", np.mean(mse_lr_list))"
   ]
  },
  {
   "cell_type": "markdown",
   "metadata": {},
   "source": [
    "## TODO 1: Following the example, training a KNN model (K=3). What do you find? Which model has better performance?"
   ]
  },
  {
   "cell_type": "code",
   "execution_count": 22,
   "metadata": {},
   "outputs": [
    {
     "name": "stdout",
     "output_type": "stream",
     "text": [
      "average R2 score for knn: 0.8844743932435826\n",
      "average MSE knn: 104455.40707885305\n"
     ]
    }
   ],
   "source": [
    "r2_knn_list = []\n",
    "mse_knn_list = []\n",
    "\n",
    "# Your code here\n",
    "for idx_train, idx_test in cv_split.split(X_full, y_full):\n",
    "    X_train = X_full.iloc[idx_train]\n",
    "    X_test = X_full.iloc[idx_test]\n",
    "    y_train = y_full.iloc[idx_train]\n",
    "    y_test = y_full.iloc[idx_test]\n",
    "    \n",
    "    # k nearest neighbour\n",
    "    m_knn = knn.fit(X_train, y_train)\n",
    "    y_pred = m_knn.predict(X_test)\n",
    "    \n",
    "    # R^2\n",
    "    r2_knn = r2_score(y_true=y_test, y_pred=y_pred)\n",
    "    r2_knn_list.append(r2_knn)\n",
    "    \n",
    "    # mean squared error\n",
    "    mse_knn = mean_squared_error(y_true=y_test, y_pred=y_pred)\n",
    "    mse_knn_list.append(mse_knn)\n",
    "\n",
    "print(\"average R2 score for knn:\", np.mean(r2_knn_list))\n",
    "print(\"average MSE knn:\", np.mean(mse_knn_list))"
   ]
  },
  {
   "cell_type": "markdown",
   "metadata": {},
   "source": [
    "ANSWER: Generally, higher R2 value means the model performs better. Based on R2 value, the linear regression model performs better. \n",
    "The lower the MSE the higher the accuracy of prediction as there would be excellent match between the actual and predicted data set. Linear regression model has lower MSE value. "
   ]
  },
  {
   "cell_type": "markdown",
   "metadata": {},
   "source": [
    "## A short-cut to do cross-validation\n",
    "\n",
    "List of available metrics found in [scikit learn documentation: scoring parameters](https://scikit-learn.org/stable/modules/model_evaluation.html#scoring-parameter)"
   ]
  },
  {
   "cell_type": "code",
   "execution_count": 13,
   "metadata": {},
   "outputs": [],
   "source": [
    "metrics = ('r2', 'neg_mean_squared_error')\n",
    "\n",
    "results_lr = cross_validate(estimator=lr, X = X_full, y = y_full, cv = cv_split, scoring = metrics, return_train_score=True)\n",
    "results_knn = cross_validate(estimator=knn, X = X_full, y = y_full, cv = cv_split, scoring = metrics, return_train_score=True)"
   ]
  },
  {
   "cell_type": "code",
   "execution_count": 14,
   "metadata": {},
   "outputs": [
    {
     "data": {
      "text/plain": [
       "{'fit_time': array([0.04099607, 0.00125408, 0.00127792, 0.00111794, 0.00103688]),\n",
       " 'score_time': array([0.00229478, 0.00092793, 0.00108099, 0.0008471 , 0.00082397]),\n",
       " 'test_r2': array([0.97581596, 0.9508146 , 0.96105864, 0.87857793, 0.97394268]),\n",
       " 'train_r2': array([0.95334727, 0.96172013, 0.96041017, 0.97190647, 0.95634131]),\n",
       " 'test_neg_mean_squared_error': array([-33643.29805604, -31760.63421478, -33538.33128831, -86406.84704642,\n",
       "        -21529.73771883]),\n",
       " 'train_neg_mean_squared_error': array([-37477.03868869, -38280.1317768 , -37520.51317443, -27045.66461286,\n",
       "        -40418.56065386])}"
      ]
     },
     "execution_count": 14,
     "metadata": {},
     "output_type": "execute_result"
    }
   ],
   "source": [
    "results_lr"
   ]
  },
  {
   "cell_type": "code",
   "execution_count": 15,
   "metadata": {},
   "outputs": [
    {
     "name": "stdout",
     "output_type": "stream",
     "text": [
      "average R2 score for LR: 0.9480419620768963\n",
      "average R2 score KNN: 0.8844743932435826\n",
      "average MSE linear regression: -41375.769664874286\n",
      "average MSE for KNN: -104455.40707885305\n"
     ]
    }
   ],
   "source": [
    "print(\"average R2 score for LR:\", results_lr[\"test_r2\"].mean())\n",
    "print(\"average R2 score KNN:\", results_knn[\"test_r2\"].mean())\n",
    "\n",
    "print(\"average MSE linear regression:\", results_lr[\"test_neg_mean_squared_error\"].mean())\n",
    "print(\"average MSE for KNN:\", results_knn[\"test_neg_mean_squared_error\"].mean())"
   ]
  },
  {
   "cell_type": "code",
   "execution_count": 16,
   "metadata": {},
   "outputs": [
    {
     "data": {
      "text/html": [
       "<div>\n",
       "<style scoped>\n",
       "    .dataframe tbody tr th:only-of-type {\n",
       "        vertical-align: middle;\n",
       "    }\n",
       "\n",
       "    .dataframe tbody tr th {\n",
       "        vertical-align: top;\n",
       "    }\n",
       "\n",
       "    .dataframe thead th {\n",
       "        text-align: right;\n",
       "    }\n",
       "</style>\n",
       "<table border=\"1\" class=\"dataframe\">\n",
       "  <thead>\n",
       "    <tr style=\"text-align: right;\">\n",
       "      <th></th>\n",
       "      <th>k</th>\n",
       "      <th>train_error</th>\n",
       "      <th>test_error</th>\n",
       "    </tr>\n",
       "  </thead>\n",
       "  <tbody>\n",
       "    <tr>\n",
       "      <th>0</th>\n",
       "      <td>1.0</td>\n",
       "      <td>0.707662</td>\n",
       "      <td>97386.466734</td>\n",
       "    </tr>\n",
       "    <tr>\n",
       "      <th>1</th>\n",
       "      <td>2.0</td>\n",
       "      <td>28912.104934</td>\n",
       "      <td>96073.377369</td>\n",
       "    </tr>\n",
       "    <tr>\n",
       "      <th>2</th>\n",
       "      <td>3.0</td>\n",
       "      <td>49546.975078</td>\n",
       "      <td>104455.407079</td>\n",
       "    </tr>\n",
       "    <tr>\n",
       "      <th>3</th>\n",
       "      <td>4.0</td>\n",
       "      <td>62332.682384</td>\n",
       "      <td>113585.677508</td>\n",
       "    </tr>\n",
       "    <tr>\n",
       "      <th>4</th>\n",
       "      <td>5.0</td>\n",
       "      <td>72862.537094</td>\n",
       "      <td>118121.459669</td>\n",
       "    </tr>\n",
       "    <tr>\n",
       "      <th>5</th>\n",
       "      <td>6.0</td>\n",
       "      <td>80880.750423</td>\n",
       "      <td>121469.986593</td>\n",
       "    </tr>\n",
       "    <tr>\n",
       "      <th>6</th>\n",
       "      <td>7.0</td>\n",
       "      <td>84952.305513</td>\n",
       "      <td>118869.866487</td>\n",
       "    </tr>\n",
       "    <tr>\n",
       "      <th>7</th>\n",
       "      <td>8.0</td>\n",
       "      <td>88831.079471</td>\n",
       "      <td>123156.633572</td>\n",
       "    </tr>\n",
       "    <tr>\n",
       "      <th>8</th>\n",
       "      <td>9.0</td>\n",
       "      <td>90639.463221</td>\n",
       "      <td>116838.024111</td>\n",
       "    </tr>\n",
       "    <tr>\n",
       "      <th>9</th>\n",
       "      <td>10.0</td>\n",
       "      <td>94162.548419</td>\n",
       "      <td>114674.361974</td>\n",
       "    </tr>\n",
       "    <tr>\n",
       "      <th>10</th>\n",
       "      <td>11.0</td>\n",
       "      <td>96971.387978</td>\n",
       "      <td>120062.228429</td>\n",
       "    </tr>\n",
       "    <tr>\n",
       "      <th>11</th>\n",
       "      <td>12.0</td>\n",
       "      <td>98736.289011</td>\n",
       "      <td>121466.942349</td>\n",
       "    </tr>\n",
       "    <tr>\n",
       "      <th>12</th>\n",
       "      <td>13.0</td>\n",
       "      <td>102778.598016</td>\n",
       "      <td>123123.717020</td>\n",
       "    </tr>\n",
       "    <tr>\n",
       "      <th>13</th>\n",
       "      <td>14.0</td>\n",
       "      <td>105572.264043</td>\n",
       "      <td>125148.978613</td>\n",
       "    </tr>\n",
       "    <tr>\n",
       "      <th>14</th>\n",
       "      <td>15.0</td>\n",
       "      <td>108738.791308</td>\n",
       "      <td>126319.732334</td>\n",
       "    </tr>\n",
       "    <tr>\n",
       "      <th>15</th>\n",
       "      <td>16.0</td>\n",
       "      <td>110230.596353</td>\n",
       "      <td>126001.693736</td>\n",
       "    </tr>\n",
       "    <tr>\n",
       "      <th>16</th>\n",
       "      <td>17.0</td>\n",
       "      <td>112205.930472</td>\n",
       "      <td>125643.759875</td>\n",
       "    </tr>\n",
       "    <tr>\n",
       "      <th>17</th>\n",
       "      <td>18.0</td>\n",
       "      <td>114128.373672</td>\n",
       "      <td>129430.960539</td>\n",
       "    </tr>\n",
       "    <tr>\n",
       "      <th>18</th>\n",
       "      <td>19.0</td>\n",
       "      <td>117105.826297</td>\n",
       "      <td>132399.416535</td>\n",
       "    </tr>\n",
       "  </tbody>\n",
       "</table>\n",
       "</div>"
      ],
      "text/plain": [
       "       k    train_error     test_error\n",
       "0    1.0       0.707662   97386.466734\n",
       "1    2.0   28912.104934   96073.377369\n",
       "2    3.0   49546.975078  104455.407079\n",
       "3    4.0   62332.682384  113585.677508\n",
       "4    5.0   72862.537094  118121.459669\n",
       "5    6.0   80880.750423  121469.986593\n",
       "6    7.0   84952.305513  118869.866487\n",
       "7    8.0   88831.079471  123156.633572\n",
       "8    9.0   90639.463221  116838.024111\n",
       "9   10.0   94162.548419  114674.361974\n",
       "10  11.0   96971.387978  120062.228429\n",
       "11  12.0   98736.289011  121466.942349\n",
       "12  13.0  102778.598016  123123.717020\n",
       "13  14.0  105572.264043  125148.978613\n",
       "14  15.0  108738.791308  126319.732334\n",
       "15  16.0  110230.596353  126001.693736\n",
       "16  17.0  112205.930472  125643.759875\n",
       "17  18.0  114128.373672  129430.960539\n",
       "18  19.0  117105.826297  132399.416535"
      ]
     },
     "execution_count": 16,
     "metadata": {},
     "output_type": "execute_result"
    }
   ],
   "source": [
    "df_results = pd.DataFrame({'k':[], 'train_error':[], 'test_error':[]})\n",
    "\n",
    "for k in range(1,20):\n",
    "    knn_i = KNeighborsRegressor(n_neighbors=k)\n",
    "    results_knn_i = cross_validate(estimator=knn_i, X = X_full, y = y_full, cv = cv_split, scoring = metrics, return_train_score=True)\n",
    "    df_results = df_results.append({'k': k, \n",
    "                                    'train_error': results_knn_i['train_neg_mean_squared_error'].mean() * -1, \n",
    "                                    'test_error': results_knn_i['test_neg_mean_squared_error'].mean() * -1}, ignore_index=True)\n",
    "\n",
    "df_results"
   ]
  },
  {
   "cell_type": "code",
   "execution_count": 17,
   "metadata": {},
   "outputs": [
    {
     "data": {
      "text/plain": [
       "[<matplotlib.lines.Line2D at 0x7f95a8374ac0>]"
      ]
     },
     "execution_count": 17,
     "metadata": {},
     "output_type": "execute_result"
    },
    {
     "data": {
      "image/png": "[encoded data removed]",
      "text/plain": [
       "<Figure size 432x288 with 1 Axes>"
      ]
     },
     "metadata": {
      "needs_background": "light"
     },
     "output_type": "display_data"
    }
   ],
   "source": [
    "plt.plot(df_results['k'], df_results['train_error'])\n",
    "plt.plot(df_results['k'], df_results['test_error'])"
   ]
  },
  {
   "cell_type": "markdown",
   "metadata": {},
   "source": [
    "# Scaling the data for better performance"
   ]
  },
  {
   "cell_type": "code",
   "execution_count": 18,
   "metadata": {},
   "outputs": [],
   "source": [
    "scaler = preprocessing.StandardScaler()"
   ]
  },
  {
   "cell_type": "code",
   "execution_count": 19,
   "metadata": {},
   "outputs": [
    {
     "data": {
      "text/plain": [
       "array([[<AxesSubplot:title={'center':'Tonnage'}>,\n",
       "        <AxesSubplot:title={'center':'length'}>],\n",
       "       [<AxesSubplot:title={'center':'cabins'}>,\n",
       "        <AxesSubplot:title={'center':'crew'}>]], dtype=object)"
      ]
     },
     "execution_count": 19,
     "metadata": {},
     "output_type": "execute_result"
    },
    {
     "data": {
      "image/png": "[encoded data removed]",
      "text/plain": [
       "<Figure size 432x288 with 4 Axes>"
      ]
     },
     "metadata": {
      "needs_background": "light"
     },
     "output_type": "display_data"
    }
   ],
   "source": [
    "X_full.hist()"
   ]
  },
  {
   "cell_type": "code",
   "execution_count": 20,
   "metadata": {},
   "outputs": [
    {
     "data": {
      "text/plain": [
       "array([[<AxesSubplot:title={'center':'Tonnage'}>,\n",
       "        <AxesSubplot:title={'center':'length'}>],\n",
       "       [<AxesSubplot:title={'center':'cabins'}>,\n",
       "        <AxesSubplot:title={'center':'crew'}>]], dtype=object)"
      ]
     },
     "execution_count": 20,
     "metadata": {},
     "output_type": "execute_result"
    },
    {
     "data": {
      "image/png": "[encoded data removed]",
      "text/plain": [
       "<Figure size 432x288 with 4 Axes>"
      ]
     },
     "metadata": {
      "needs_background": "light"
     },
     "output_type": "display_data"
    }
   ],
   "source": [
    "X_full_transform = scaler.fit(X_full).transform(X_full)\n",
    "# same results:\n",
    "# X_full_transform = scaler.fit_transform(X_full)\n",
    "\n",
    "X_full_transform = pd.DataFrame(X_full_transform, columns=X_full.columns)\n",
    "X_full_transform.hist()"
   ]
  },
  {
   "cell_type": "markdown",
   "metadata": {},
   "source": [
    "## Example of scaling the linear regression model"
   ]
  },
  {
   "cell_type": "code",
   "execution_count": 23,
   "metadata": {},
   "outputs": [
    {
     "name": "stdout",
     "output_type": "stream",
     "text": [
      "average R2 score: 0.9480419620768963\n",
      "average MSE: 41375.769664874264\n",
      "average R2 score: 0.9162581776602394\n",
      "average MSE: 41375.769664874286\n"
     ]
    }
   ],
   "source": [
    "r2_lr_list_scale = []\n",
    "mse_lr_list_scale = []\n",
    "\n",
    "for idx_train, idx_test in cv_split.split(X_full, y_full):\n",
    "    X_train = X_full.iloc[idx_train]\n",
    "    X_test = X_full.iloc[idx_test]\n",
    "    y_train = y_full.iloc[idx_train]\n",
    "    y_test = y_full.iloc[idx_test]\n",
    "    \n",
    "    scaler_standard = scaler.fit(X_train)\n",
    "    X_train_standard = scaler_standard.transform(X_train)\n",
    "    X_test_standard = scaler_standard.transform(X_test)\n",
    "    \n",
    "    # linear regression\n",
    "    m_lr = lr.fit(X_train_standard, y_train)\n",
    "    y_pred = m_lr.predict(X_test_standard)\n",
    "    r2_lr = r2_score(y_true=y_test, y_pred=y_pred)\n",
    "    mse_le = mean_squared_error(y_true=y_test, y_pred=y_pred)\n",
    "    \n",
    "    r2_lr_list_scale.append(r2_lr)\n",
    "    mse_lr_list_scale.append(mse_le)\n",
    "print(\"average R2 score:\", np.mean(r2_lr_list_scale))\n",
    "print(\"average MSE:\", np.mean(mse_lr_list_scale))\n",
    "\n",
    "print(\"average R2 score:\", np.mean(r2_lr_list))\n",
    "print(\"average MSE:\", np.mean(mse_lr_list))"
   ]
  },
  {
   "cell_type": "markdown",
   "metadata": {},
   "source": [
    "**Think: How does the results compared to the previous linear regression model without scaling? Why?**"
   ]
  },
  {
   "cell_type": "markdown",
   "metadata": {},
   "source": [
    "The linear regression model performs better after scaling as the R2 value increases from 0.91 to 0.94. There is some substantial improvement in performance. This happens because now the features/variables have comparable values in the same range and do not skew the result towards one side. "
   ]
  },
  {
   "cell_type": "markdown",
   "metadata": {},
   "source": [
    "## TODO 2: Following the example, train a KNN (K=3) model with the scaling."
   ]
  },
  {
   "cell_type": "code",
   "execution_count": 25,
   "metadata": {},
   "outputs": [
    {
     "name": "stdout",
     "output_type": "stream",
     "text": [
      "average R2 score: 0.9288492935982386\n",
      "average MSE: 69673.52674731184\n",
      "average R2 score: 0.8844743932435826\n",
      "average MSE: 104455.40707885305\n"
     ]
    }
   ],
   "source": [
    "r2_knn_list_scale = []\n",
    "mse_knn_list_scale = []\n",
    "\n",
    "# Your code here\n",
    "for idx_train, idx_test in cv_split.split(X_full, y_full):\n",
    "    X_train = X_full.iloc[idx_train]\n",
    "    X_test = X_full.iloc[idx_test]\n",
    "    y_train = y_full.iloc[idx_train]\n",
    "    y_test = y_full.iloc[idx_test]\n",
    "    \n",
    "    scaler_standard = scaler.fit(X_train)\n",
    "    X_train_standard = scaler_standard.transform(X_train)\n",
    "    X_test_standard = scaler_standard.transform(X_test)\n",
    "    \n",
    "    # knn\n",
    "    m_knn = knn.fit(X_train_standard, y_train)\n",
    "    y_pred = m_knn.predict(X_test_standard)\n",
    "    r2_knn = r2_score(y_true=y_test, y_pred=y_pred)\n",
    "    mse_knn = mean_squared_error(y_true=y_test, y_pred=y_pred)\n",
    "    \n",
    "    r2_knn_list_scale.append(r2_knn)\n",
    "    mse_knn_list_scale.append(mse_knn)\n",
    "print(\"average R2 score:\", np.mean(r2_knn_list_scale))\n",
    "print(\"average MSE:\", np.mean(mse_knn_list_scale))\n",
    "\n",
    "print(\"average R2 score:\", np.mean(r2_knn_list))\n",
    "print(\"average MSE:\", np.mean(mse_knn_list))"
   ]
  },
  {
   "cell_type": "markdown",
   "metadata": {},
   "source": [
    "**Think Again: How does the results compared to the previous KNN model without scaling? Why?**"
   ]
  },
  {
   "cell_type": "markdown",
   "metadata": {},
   "source": [
    "ANSWER: The KNN model performs much better after scaling. The R2 value increased from 0.88 to 0.92 after scaling and MSE value decreases substantially, improving the overall performance of the KNN model. \n",
    "This happens because now the features/variables have comparable values in the same range and do not skew the result towards one side. "
   ]
  },
  {
   "cell_type": "code",
   "execution_count": null,
   "metadata": {},
   "outputs": [],
   "source": []
  },
  {
   "cell_type": "code",
   "execution_count": null,
   "metadata": {},
   "outputs": [],
   "source": []
  }
 ],
 "metadata": {
  "kernelspec": {
   "display_name": "Python 3 (ipykernel)",
   "language": "python",
   "name": "python3"
  },
  "language_info": {
   "codemirror_mode": {
    "name": "ipython",
    "version": 3
   },
   "file_extension": ".py",
   "mimetype": "text/x-python",
   "name": "python",
   "nbconvert_exporter": "python",
   "pygments_lexer": "ipython3",
   "version": "3.9.7"
  },
  "toc-autonumbering": true
 },
 "nbformat": 4,
 "nbformat_minor": 4
}
